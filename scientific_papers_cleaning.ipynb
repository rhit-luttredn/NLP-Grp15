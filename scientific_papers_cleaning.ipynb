{
 "cells": [
  {
   "cell_type": "code",
   "execution_count": 1,
   "metadata": {},
   "outputs": [],
   "source": [
    "import tensorflow as tf\n",
    "import tensorflow_datasets as tfds\n",
    "import pydetex.pipelines as pi\n",
    "import numpy as np\n",
    "import re\n",
    "import nltk\n",
    "import json\n",
    "import pandas as pd\n",
    "from tqdm.notebook import tqdm"
   ]
  },
  {
   "cell_type": "code",
   "execution_count": 2,
   "metadata": {},
   "outputs": [
    {
     "name": "stderr",
     "output_type": "stream",
     "text": [
      "[nltk_data] Downloading package stopwords to\n",
      "[nltk_data]     C:\\Users\\luttredn\\AppData\\Roaming\\nltk_data...\n",
      "[nltk_data]   Package stopwords is already up-to-date!\n"
     ]
    },
    {
     "data": {
      "text/plain": [
       "True"
      ]
     },
     "execution_count": 2,
     "metadata": {},
     "output_type": "execute_result"
    }
   ],
   "source": [
    "nltk.download('stopwords')"
   ]
  },
  {
   "cell_type": "code",
   "execution_count": 3,
   "metadata": {},
   "outputs": [],
   "source": [
    "path = \"C:/Users/luttredn/tensorflow_datasets/downloads/extracted/ZIP.ucid_1b3rmCSIoh6VhD4H-cSwcwbeC_export_downloadgu0w3Xxmpkl-6z18MJDCdOnjLAEkOPjguzzOPmwfyto/arxiv-dataset/\"\n",
    "path += \"train.txt\"\n",
    "df = pd.DataFrame(columns=[\"article_id\", \"article\", \"abstract\"])\n",
    "with open(path, 'r') as f:\n",
    "    for line in f:\n",
    "        data = json.loads(line)\n",
    "        df.loc[len(df.index)] = {\"article_id\": data[\"article_id\"], \"article\": data[\"article_text\"], \"abstract\": data[\"abstract_text\"]}\n",
    "df = df.sample(n=1000)"
   ]
  },
  {
   "cell_type": "code",
   "execution_count": null,
   "metadata": {},
   "outputs": [],
   "source": [
    "# df = df.sample(n=100)"
   ]
  },
  {
   "cell_type": "code",
   "execution_count": 4,
   "metadata": {},
   "outputs": [
    {
     "name": "stdout",
     "output_type": "stream",
     "text": [
      "(1000, 3)\n"
     ]
    },
    {
     "data": {
      "text/html": [
       "<div>\n",
       "<style scoped>\n",
       "    .dataframe tbody tr th:only-of-type {\n",
       "        vertical-align: middle;\n",
       "    }\n",
       "\n",
       "    .dataframe tbody tr th {\n",
       "        vertical-align: top;\n",
       "    }\n",
       "\n",
       "    .dataframe thead th {\n",
       "        text-align: right;\n",
       "    }\n",
       "</style>\n",
       "<table border=\"1\" class=\"dataframe\">\n",
       "  <thead>\n",
       "    <tr style=\"text-align: right;\">\n",
       "      <th></th>\n",
       "      <th>article_id</th>\n",
       "      <th>article</th>\n",
       "      <th>abstract</th>\n",
       "    </tr>\n",
       "  </thead>\n",
       "  <tbody>\n",
       "    <tr>\n",
       "      <th>0</th>\n",
       "      <td>cond-mat9902107</td>\n",
       "      <td>[in the hope to get a better understanding of ...</td>\n",
       "      <td>[&lt;S&gt; we applied the recurrent variational appr...</td>\n",
       "    </tr>\n",
       "    <tr>\n",
       "      <th>1</th>\n",
       "      <td>1308.2865</td>\n",
       "      <td>[consider a network @xmath0 , where @xmath1 de...</td>\n",
       "      <td>[&lt;S&gt; in this paper , a hub refers to a non - t...</td>\n",
       "    </tr>\n",
       "    <tr>\n",
       "      <th>2</th>\n",
       "      <td>1208.1580</td>\n",
       "      <td>[the magnetism of fermi gases has always recei...</td>\n",
       "      <td>[&lt;S&gt; magnetic properties of a charged spin-1 b...</td>\n",
       "    </tr>\n",
       "    <tr>\n",
       "      <th>3</th>\n",
       "      <td>astro-ph0108136</td>\n",
       "      <td>[this paper tries to understand whether concen...</td>\n",
       "      <td>[&lt;S&gt; we examine the question of how well the p...</td>\n",
       "    </tr>\n",
       "    <tr>\n",
       "      <th>4</th>\n",
       "      <td>0805.4263</td>\n",
       "      <td>[in the past decade and a half , over two hund...</td>\n",
       "      <td>[&lt;S&gt; the perturbation caused by planet - moon ...</td>\n",
       "    </tr>\n",
       "  </tbody>\n",
       "</table>\n",
       "</div>"
      ],
      "text/plain": [
       "        article_id                                            article  \\\n",
       "0  cond-mat9902107  [in the hope to get a better understanding of ...   \n",
       "1        1308.2865  [consider a network @xmath0 , where @xmath1 de...   \n",
       "2        1208.1580  [the magnetism of fermi gases has always recei...   \n",
       "3  astro-ph0108136  [this paper tries to understand whether concen...   \n",
       "4        0805.4263  [in the past decade and a half , over two hund...   \n",
       "\n",
       "                                            abstract  \n",
       "0  [<S> we applied the recurrent variational appr...  \n",
       "1  [<S> in this paper , a hub refers to a non - t...  \n",
       "2  [<S> magnetic properties of a charged spin-1 b...  \n",
       "3  [<S> we examine the question of how well the p...  \n",
       "4  [<S> the perturbation caused by planet - moon ...  "
      ]
     },
     "execution_count": 4,
     "metadata": {},
     "output_type": "execute_result"
    }
   ],
   "source": [
    "df.reset_index(inplace=True, drop=True)\n",
    "print(df.shape)\n",
    "df.head()"
   ]
  },
  {
   "cell_type": "code",
   "execution_count": 6,
   "metadata": {},
   "outputs": [
    {
     "data": {
      "text/plain": [
       "['<S> we applied the recurrent variational approach to the two - leg hubbard ladder . at half - filling , </S>',\n",
       " '<S> our variational ansatz was a generalization of the resonating valence bond state . at finite doping </S>',\n",
       " '<S> , hole pairs were allowed to move in the resonating valence bond background . </S>',\n",
       " '<S> the results obtained by the recurrent variational approach were compared with results from density matrix renormalization group .    2 </S>']"
      ]
     },
     "execution_count": 6,
     "metadata": {},
     "output_type": "execute_result"
    }
   ],
   "source": [
    "df.loc[0, \"abstract\"]"
   ]
  },
  {
   "cell_type": "code",
   "execution_count": 7,
   "metadata": {},
   "outputs": [],
   "source": [
    "stop_words = nltk.corpus.stopwords.words('english')\n",
    "def normalize_document(doc):\n",
    "    # undo bad sent tokenization\n",
    "    doc = ' '.join(doc)\n",
    "    # remove latex\n",
    "    # print(\"removing latex\")\n",
    "    # doc = pi.strict_eqn(doc)\n",
    "    # removing @xmath and @xcite and <S> and </S>\n",
    "    doc = re.sub(r'@xmath', '', doc)\n",
    "    doc = re.sub(r'\\([^()]*?@xcite.*?\\)|@xcite', '', doc)\n",
    "    doc = re.sub(r'<S>|</S>', '', doc)\n",
    "    # sent tokenize document\n",
    "    doc = nltk.sent_tokenize(doc)\n",
    "    for idx, sent in enumerate(doc):\n",
    "        # lower case and remove special characters\\whitespaces\n",
    "        # doc = re.sub(r'[^a-zA-Z0-9.\\s]', ' ', doc, re.I|re.A)\n",
    "        sent = re.sub(r\"(@\\[A-Za-z0-9]+)|([^0-9A-Za-z \\t])|(\\w+:\\/\\/\\S+)|^rt|http.+?\", \" \", sent)\n",
    "        sent = re.sub(r'[ ]{2,}', ' ', sent)\n",
    "        sent = sent.lower()\n",
    "        sent = sent.strip()\n",
    "        # tokenize document\n",
    "        tokens = nltk.word_tokenize(sent)\n",
    "        # filter stopwords out of document\n",
    "        filtered_tokens = [token for token in tokens if token not in stop_words]\n",
    "        # re-create document from filtered tokens\n",
    "        sent = ' '.join(filtered_tokens)\n",
    "        doc[idx] = sent\n",
    "    \n",
    "    return doc\n",
    "\n",
    "def normalize_corpus(corpus):\n",
    "    normalized_corpus = []\n",
    "    for doc_idx in tqdm(range(len(corpus))):\n",
    "        normalized_corpus.append(normalize_document(corpus[doc_idx]))\n",
    "    return normalized_corpus"
   ]
  },
  {
   "cell_type": "code",
   "execution_count": 12,
   "metadata": {},
   "outputs": [
    {
     "name": "stdout",
     "output_type": "stream",
     "text": [
      "Normalizing article text...\n"
     ]
    },
    {
     "data": {
      "application/vnd.jupyter.widget-view+json": {
       "model_id": "bd536f95b2424bbb91887943da957c10",
       "version_major": 2,
       "version_minor": 0
      },
      "text/plain": [
       "  0%|          | 0/1000 [00:00<?, ?it/s]"
      ]
     },
     "metadata": {},
     "output_type": "display_data"
    },
    {
     "name": "stdout",
     "output_type": "stream",
     "text": [
      "Normalizing abstract text...\n"
     ]
    },
    {
     "data": {
      "application/vnd.jupyter.widget-view+json": {
       "model_id": "2d227685625c4440a783e169418acd52",
       "version_major": 2,
       "version_minor": 0
      },
      "text/plain": [
       "  0%|          | 0/1000 [00:00<?, ?it/s]"
      ]
     },
     "metadata": {},
     "output_type": "display_data"
    }
   ],
   "source": [
    "cleaned_df = pd.DataFrame(columns=[\"article_id\", \"article\", \"abstract\"])\n",
    "cleaned_df[\"article_id\"] = df[\"article_id\"]\n",
    "print(\"Normalizing article text...\")\n",
    "cleaned_df[\"article\"] = normalize_corpus(df[\"article\"])\n",
    "print(\"Normalizing abstract text...\")\n",
    "cleaned_df[\"abstract\"] = normalize_corpus(df[\"abstract\"])"
   ]
  },
  {
   "cell_type": "code",
   "execution_count": 13,
   "metadata": {},
   "outputs": [
    {
     "data": {
      "text/html": [
       "<div>\n",
       "<style scoped>\n",
       "    .dataframe tbody tr th:only-of-type {\n",
       "        vertical-align: middle;\n",
       "    }\n",
       "\n",
       "    .dataframe tbody tr th {\n",
       "        vertical-align: top;\n",
       "    }\n",
       "\n",
       "    .dataframe thead th {\n",
       "        text-align: right;\n",
       "    }\n",
       "</style>\n",
       "<table border=\"1\" class=\"dataframe\">\n",
       "  <thead>\n",
       "    <tr style=\"text-align: right;\">\n",
       "      <th></th>\n",
       "      <th>article_id</th>\n",
       "      <th>article</th>\n",
       "      <th>abstract</th>\n",
       "    </tr>\n",
       "  </thead>\n",
       "  <tbody>\n",
       "    <tr>\n",
       "      <th>0</th>\n",
       "      <td>cond-mat9902107</td>\n",
       "      <td>[hope get better understanding strongly intera...</td>\n",
       "      <td>[applied recurrent variational approach two le...</td>\n",
       "    </tr>\n",
       "    <tr>\n",
       "      <th>1</th>\n",
       "      <td>1308.2865</td>\n",
       "      <td>[consider network 0 1 denotes set vertices 2 3...</td>\n",
       "      <td>[paper hub refers non terminal vertex degree l...</td>\n",
       "    </tr>\n",
       "    <tr>\n",
       "      <th>2</th>\n",
       "      <td>1208.1580</td>\n",
       "      <td>[magnetism fermi gases always received conside...</td>\n",
       "      <td>[magnetic properties charged spin 1 bose gas f...</td>\n",
       "    </tr>\n",
       "    <tr>\n",
       "      <th>3</th>\n",
       "      <td>astro-ph0108136</td>\n",
       "      <td>[paper tries understand whether concentrations...</td>\n",
       "      <td>[examine question well physical properties clu...</td>\n",
       "    </tr>\n",
       "    <tr>\n",
       "      <th>4</th>\n",
       "      <td>0805.4263</td>\n",
       "      <td>[past decade half two hundred fifty extra sola...</td>\n",
       "      <td>[perturbation caused planet moon binarity time...</td>\n",
       "    </tr>\n",
       "  </tbody>\n",
       "</table>\n",
       "</div>"
      ],
      "text/plain": [
       "        article_id                                            article  \\\n",
       "0  cond-mat9902107  [hope get better understanding strongly intera...   \n",
       "1        1308.2865  [consider network 0 1 denotes set vertices 2 3...   \n",
       "2        1208.1580  [magnetism fermi gases always received conside...   \n",
       "3  astro-ph0108136  [paper tries understand whether concentrations...   \n",
       "4        0805.4263  [past decade half two hundred fifty extra sola...   \n",
       "\n",
       "                                            abstract  \n",
       "0  [applied recurrent variational approach two le...  \n",
       "1  [paper hub refers non terminal vertex degree l...  \n",
       "2  [magnetic properties charged spin 1 bose gas f...  \n",
       "3  [examine question well physical properties clu...  \n",
       "4  [perturbation caused planet moon binarity time...  "
      ]
     },
     "execution_count": 13,
     "metadata": {},
     "output_type": "execute_result"
    }
   ],
   "source": [
    "cleaned_df.head()"
   ]
  },
  {
   "cell_type": "code",
   "execution_count": 14,
   "metadata": {},
   "outputs": [],
   "source": [
    "cleaned_df.to_csv(\"arxiv_cleaned.csv\", index=False)"
   ]
  },
  {
   "cell_type": "code",
   "execution_count": 11,
   "metadata": {},
   "outputs": [
    {
     "name": "stdout",
     "output_type": "stream",
     "text": [
      "cond-mat9902107\n",
      "['applied recurrent variational approach two leg hubbard ladder', 'half filling variational ansatz generalization resonating valence bond state', 'finite doping hole pairs allowed move resonating valence bond background', 'results obtained recurrent variational approach compared results density matrix renormalization group', '2']\n"
     ]
    },
    {
     "data": {
      "text/plain": [
       "['hope get better understanding strongly interacting systems considerable interest ladder systems',\n",
       " 'ladder systems proven theoretical wonderland analytically numerically',\n",
       " 'however much analytic work done ladders weak coupling perturbatively parameter namely analytic methods strong coupling',\n",
       " 'exact diagonalization monte carlo density matrix renormalization group methods primary tools studying systems strong coupling',\n",
       " 'methods strengths weaknesses considering lattice sizes temperatures couplings consider',\n",
       " 'ability fabricate materials ladders theoretical playground',\n",
       " 'example 0 well separated two leg ladders composed 1',\n",
       " 'also cuprate like material 2 consists weakly coupled 3 two leg ladders material 4 consists weakly coupled 3 three leg ladders',\n",
       " 'recently powerful analytic method developed deal strongly coupled quasi one dimensional systems recurrent variational approach rva',\n",
       " 'method similar spirit wilson numerical renormalization group white density matrix renormalization group dmrg',\n",
       " 'key idea methods build system adding sites boundary',\n",
       " 'however real power rva though analytic physics problem taken account unbiased way elucidated quite clearly',\n",
       " 'example importance different configurations ground state wave function determined without outside assumptions physics configurations made clear',\n",
       " 'work apply rva two leg hubbard ladder strong coupling small dopings',\n",
       " 'though considerable amount work done hubbard ladder many properties known unaware work put information together constructed ground state wave function',\n",
       " 'goal work provide simple physical picture ground state might look like go ahead construct ground state wave function',\n",
       " 'hamiltonian two leg hubbard ladder given 5 6 creates fermion site spin 7 8 9 hopping matrix element along chain 10 hopping matrix element perpendicular chain e',\n",
       " 'along rung 11 site coulomb repulsion',\n",
       " 'site coordinates 12 13 14',\n",
       " 'also convenient introduce following two operators 15 creates singlet across sites j 16 creates doubly occupied site',\n",
       " 'rest paper organized follows',\n",
       " 'sec',\n",
       " 'ii consider half filled case',\n",
       " 'sec',\n",
       " 'iii consider hubbard ladder small dopings',\n",
       " 'sec',\n",
       " 'iv present results ground state energies compare dmrg',\n",
       " 'finally sec',\n",
       " 'v summarize results present concluding remarks',\n",
       " 'begin half filled ladder',\n",
       " 'ingredients necessary construct wave function captures physics half filled hubbard ladder',\n",
       " 'trail clues laid previous works',\n",
       " 'first know strong coupling half filled 3 25 hubbard model equivalent heisenberg model',\n",
       " 'secondly known two leg heisenberg ladder hubbard ladder spin gap short range spin correlations',\n",
       " 'furthermore shown resonating valence bond rvb state captures essential physics two leg heisenberg ladder',\n",
       " 'hence rvb picture capture essential physics half filled hubbard ladder strong coupling',\n",
       " 'thus propose generalization rvb state variational ansatz',\n",
       " 'key property rvb state exact solution 17 heisenberg plaquette',\n",
       " 'therefore base generalized rvb state exact solution 17 hubbard plaquette',\n",
       " 'since 17 plaquette serve basis ansatz discuss detail',\n",
       " 'ground state 17 plaquette given 18 19 20 shown schematically fig',\n",
       " 'fig 2x2half',\n",
       " 'mainly interested case 21',\n",
       " 'table table 2x2half list values parameters several values 11 22',\n",
       " '3 1 values parameters half filled 2x2 plaquette 23 give exact groundstate',\n",
       " 'cols options header table 2x2holes ground state half filled ladder transforms 24 representation see operator creates hole pair undoped system 25 symmetry',\n",
       " 'facts continue true low doping larger ladders',\n",
       " 'also notice 26 27 half filled ladder',\n",
       " 'play role writing ansatz doped ladder',\n",
       " 'using configurations generalized rvb state well hole pair configurations typical configuration doped ladder shown fig',\n",
       " 'fig typicaldoped',\n",
       " '2 9 6 ground state superposition configurations shown fig',\n",
       " 'fig typicaldoped',\n",
       " 'fortunately generate state recursively',\n",
       " 'specifically build ground state ladder 28 rungs 29 holes using knowledge ground states ladder 30 rungs 31 holes',\n",
       " 'achieved recursion relations express ground state 32 terms ground states 33 34 35 using ingredients consider following ansatz doped hubbard ladder 36 3 6 2 9 shown schematically fig',\n",
       " 'fig goodstates1',\n",
       " 'completeness states terms operators eqs',\n",
       " 'singlet double given appendix b words order configurations ansatz',\n",
       " 'ansatz contains configurations rvb state well configurations holes bound pairs',\n",
       " 'hole pair states based exact solution 2x2 plaquette 2 holes ansatz reproduces exact solution',\n",
       " 'ii states 37 38 extend three rungs',\n",
       " 'states necessary allow hole pairs move smoothly rvb background',\n",
       " 'iii note physically picture hole pairs moving rvb background appropriate low dopings',\n",
       " 'compute values coefficients ansatz treat variational parameters minimize ground state energy respect parameters',\n",
       " 'useful define 39 supplemented initial conditions 40 determine values variational parameters given finite values 41 42 iterate recursion relations minimize quantity 43',\n",
       " 'actual recursion relations quite unwieldly relegated well derivation appendix b nature state constructed',\n",
       " 'order answer question plot 44 45 46 vs doping',\n",
       " 'parameters contain physics ansatz',\n",
       " '44 rvb parameter 45 46 weights hole pair configurations',\n",
       " 'results obtained 47 ladder',\n",
       " 'first consider fig',\n",
       " 'fig parameters',\n",
       " '44 begins 48 increases e',\n",
       " 'becomes less negative doping critical doping 49 vanishes',\n",
       " 'beyond doping 44 positive',\n",
       " 'also found 50 ladder',\n",
       " 'upon doping hole pairs cause destructive interference degrades rvb mechanism',\n",
       " '51 destructive interference driven 44 positive longer appropriate think state describing hole pairs moving rvb background',\n",
       " 'similar j ladder difference 52 51 attributed two different internal structures hole pairs',\n",
       " '52 hole pairs 25 structure relative rvb background',\n",
       " '51 hole pairs 7 wave like symmetry relative background',\n",
       " 'consider figs',\n",
       " 'fig parameters b fig parameters c',\n",
       " 'first notice 53',\n",
       " 'shows importance diagonal frustrating bonds dopings',\n",
       " 'also notice 45 46 reach maximum 54',\n",
       " '54 system essentially large scale reproduction 2x2 plaquette 2 holes',\n",
       " 'indeed values 45 46 54 similar values 2x2 plaquette',\n",
       " '3 25 3 25 3 25 first show results energy per site vs 11 fig',\n",
       " 'fig energyvsu',\n",
       " 'comparison dmrg results presented set parameters',\n",
       " 'half filling would expect ansatz accurate large 11 large 10',\n",
       " 'ground state energy per site 47 half filled ladder function 11 various 10 shown fig',\n",
       " 'fig energyvsu',\n",
       " '55 56 energy rva agrees dmrg within 57 improves 11 10 increased',\n",
       " '58 longer bonds extending least 3 rungs coming play',\n",
       " 'states included ansatz improve overlap ground state',\n",
       " '59 56 ansatz gives ground state energy within 60 dmrg result',\n",
       " 'noted heisenberg ladder rvb state gives ground state energy within 60 true 3 25 3 25 3 25 ground state energy obtained dmrg',\n",
       " 'recent 3 0 dmrg study different ladder models found hubbard model heisenberg model begin agree rather large 11 61',\n",
       " 'therefore surprising rvb picture becomes good hubbard model heisenberg model 61',\n",
       " 'fig energyvsu b shows ground state energy rva ansatz funtion 11 various 10 doping 62 47 ladder',\n",
       " 'show energies obtained dmrg set parameters',\n",
       " '59 63 two energies agree within 64 improves slightly 10 increased',\n",
       " 'example 59 65 overlap energies increases 66',\n",
       " 'discrepancies occur doping increased 67 see fig',\n",
       " 'fig energyvsu c',\n",
       " 'differences ground state energies occur due importance pair breaking configurations like shown fig',\n",
       " 'fig pairbreaking',\n",
       " 'weights types states increase move away half filling',\n",
       " 'consequently improve rva ansatz states must included wave function',\n",
       " 'note also ansatz would essentially exact case hole pairs well localized rung',\n",
       " '50 model 68 pairs well localized along rung ground state essentially product rung singlets rung hole pairs',\n",
       " 'however hubbard model strong coupling e',\n",
       " '69 case',\n",
       " 'holes would always rather occupy adjacent rungs even 70 since minimizes coulomb energy doubly occupied sites',\n",
       " 'see consider 17 plaquette 2 holes let 71 72',\n",
       " '1 particle rung e',\n",
       " 'one hole rung ground state energy approximately 73 particles rung e',\n",
       " 'holes rung ground state energy approximately 74',\n",
       " 'therefore large u particles would rather occupy adjacent rungs',\n",
       " 'see fig',\n",
       " 'fig adjacent',\n",
       " 'situation doped ladder similar half filled ladder early stages work',\n",
       " 'found without states 2 9 3 25 75 76 extend three rungs see fig',\n",
       " 'fig goodstates rva accurately reproduce ground state even extremely large 11',\n",
       " 'however included 75 76 results rva improved drastically',\n",
       " 'based results expect rva greatly improve including states shown fig',\n",
       " 'fig pairbreaking',\n",
       " 'fig',\n",
       " 'fig xeplot1 plot energy per site vs doping 47 ladder 55 59 63 order better understand region validity rva ansatz',\n",
       " 'see good agreement dmrg results half filling',\n",
       " 'however soon dope configurations like shown fig',\n",
       " 'fig pairbreaking also important',\n",
       " 'interesting note idea hole pairs moving rvb background seems accurately represent ground state 50 model hubbard model',\n",
       " 'using well known relation strong coupling 77 rva agrees within 78 true ground state energy 50 ladder 79 80 doping 62',\n",
       " 'two ways interpret either j model supports pairing better hubbard model must view hole pairs hubbard model larger size e',\n",
       " 'larger coherence length',\n",
       " 'summarize applied recurrent variational approach two leg hubbard ladder',\n",
       " 'results qualitative agreement previous results heisenberg j ladders',\n",
       " 'half filled ladder generalized rvb state became accurate parameter regime hubbard heisenberg ladders shown coincide',\n",
       " 'however comparison rva dmrg doped ladder indicate hole pairs moving rvb background incomplete capture essential physics',\n",
       " 'pair breaking configurations also necessary capture essential physics',\n",
       " 'saw strength rva ease could extract physics',\n",
       " 'able see importance configurations ansatz quite easily',\n",
       " 'furthermore rva natural way include longer bonds ansatz accurately represent groundstate wavefunction',\n",
       " 'importance additional states physics ladder easily probed techniques',\n",
       " 'generalized rvb states similar considered previously half filled hubbard ladder',\n",
       " 'fano et',\n",
       " 'al',\n",
       " 'even able produce ansatz coming within 81 true groundstate energy half filled 2x4 ladder 59',\n",
       " 'ansatz included diagonal bonds length 82',\n",
       " 'however none works considered doped case',\n",
       " 'using approach ref',\n",
       " '17 terms dimer coverings appears formidable task consider doping',\n",
       " 'one strengths rva doping handled rather easily',\n",
       " 'even though results doped ladder showed hole pairs moving rvb background incomplete rva offers straightforward way improve situation namely include pair breaking configurations shown fig',\n",
       " 'fig pairbreaking ansatz',\n",
       " 'another probably better way improve situation doped ladder consider matrix product ansatz',\n",
       " 'matrix product ansatz generated first order recursion relations',\n",
       " 'rva size hole pairs fixed',\n",
       " 'case hole pairs size one lattice spacing',\n",
       " 'however construction matrix product ansatz takes account hole pairs arbitrary size',\n",
       " 'leave possibilities future work',\n",
       " 'would like thank j scalapino daul hortikar r konik c l martin martin delgado helpful discussions comments',\n",
       " 'ehk gratefully acknowledges warm hospitality argonne national laboratory parts manuscript written',\n",
       " 'dd would like thank daul r noack assistance dmrg results presented',\n",
       " 'ehk supported nsf grant',\n",
       " 'dmr 9527304 gs dges grant pb97 1190 dd doe grant',\n",
       " 'de fg03 85er451907',\n",
       " 'states ansatz half filled ladder eq',\n",
       " 'halffilledansatz given 83 derive recursion relations following inner products necessary 84 using inner products straightforward calculation gives following coupled recursion relations 85 doped ladder see eq',\n",
       " 'dopedansatz 86 87 88 89 90 91 92 93 half filled case 94 derive recursion relations use inner products half filled case well following 95 using inner products straightforward calculation gives following coupled recursion relations 96 example see c varma zawadowski phys',\n",
       " 'b 32 7399 1985 g shelton nerseynan tsvelik phys',\n",
       " 'rev',\n",
       " 'b 53 8521 1996 h h lin l balents p fisher phys b 58 1794 1998 references therein']"
      ]
     },
     "execution_count": 11,
     "metadata": {},
     "output_type": "execute_result"
    }
   ],
   "source": [
    "print(df.loc[0][\"article_id\"])\n",
    "print(normalize_document(df.loc[0][\"abstract\"]))\n",
    "normalize_document(df.loc[0][\"article\"])"
   ]
  },
  {
   "cell_type": "code",
   "execution_count": null,
   "metadata": {},
   "outputs": [],
   "source": []
  }
 ],
 "metadata": {
  "kernelspec": {
   "display_name": "Python 3",
   "language": "python",
   "name": "python3"
  },
  "language_info": {
   "codemirror_mode": {
    "name": "ipython",
    "version": 3
   },
   "file_extension": ".py",
   "mimetype": "text/x-python",
   "name": "python",
   "nbconvert_exporter": "python",
   "pygments_lexer": "ipython3",
   "version": "3.9.13"
  },
  "orig_nbformat": 4,
  "vscode": {
   "interpreter": {
    "hash": "2e25a6a6007380c2aaab295dbd93e746300d3d483f6c80ab0a58bac2da9fb50d"
   }
  }
 },
 "nbformat": 4,
 "nbformat_minor": 2
}
