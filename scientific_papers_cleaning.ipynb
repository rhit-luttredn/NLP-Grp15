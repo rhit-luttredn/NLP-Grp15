{
 "cells": [
  {
   "cell_type": "code",
   "execution_count": 11,
   "metadata": {},
   "outputs": [],
   "source": [
    "import os, re\n",
    "import regex, nltk, json\n",
    "import pandas as pd\n",
    "import tensorflow_datasets as tfds\n",
    "import pydetex.pipelines as pi\n",
    "import numpy as np"
   ]
  },
  {
   "attachments": {},
   "cell_type": "markdown",
   "metadata": {},
   "source": [
    "## Download and setup data\n",
    "This is going to be janky because tensorflow won't let you customize what features to load"
   ]
  },
  {
   "cell_type": "code",
   "execution_count": 2,
   "metadata": {},
   "outputs": [],
   "source": [
    "# WARNING: This dataset is 12GB!!!\n",
    "# Download the dataset. You can't change the features that are loaded though so we need to load it a different way\n",
    "builder = tfds.builder('scientific_papers')\n",
    "builder.download_and_prepare()"
   ]
  },
  {
   "attachments": {},
   "cell_type": "markdown",
   "metadata": {},
   "source": [
    "## Load the Dataset"
   ]
  },
  {
   "cell_type": "code",
   "execution_count": 3,
   "metadata": {},
   "outputs": [
    {
     "name": "stdout",
     "output_type": "stream",
     "text": [
      "C:\\Users\\luttredn\\tensorflow_datasets\\downloads\\extracted\\ZIP.ucid_1b3rmCSIoh6VhD4H-cSwcwbeC_export_downloadgu0w3Xxmpkl-6z18MJDCdOnjLAEkOPjguzzOPmwfyto\\arxiv-dataset\n"
     ]
    }
   ],
   "source": [
    "# Find the path to the downloaded arxiv dataset\n",
    "path = str(builder.data_path)+'\\\\..\\\\..\\\\..\\\\downloads\\\\extracted'\n",
    "path = os.path.abspath(path)\n",
    "for root, dirs, files in os.walk(path):\n",
    "    if 'arxiv-dataset' in dirs:\n",
    "        path = os.path.join(root, 'arxiv-dataset')\n",
    "        break\n",
    "else:\n",
    "    raise Exception('Could not find the arxiv dataset')\n",
    "print(path)"
   ]
  },
  {
   "cell_type": "code",
   "execution_count": 4,
   "metadata": {},
   "outputs": [],
   "source": [
    "data_path = os.path.join(path, 'test.txt')\n",
    "features = [\"article_id\", \"article_text\", \"abstract_text\"]\n",
    "df = pd.read_json(data_path, lines=True)[features]\n",
    "df = df.rename(columns={\"article_text\": \"article\", \"abstract_text\": \"abstract\"})\n",
    "df = df.sample(n=500, random_state=1, ignore_index=True)"
   ]
  },
  {
   "attachments": {},
   "cell_type": "markdown",
   "metadata": {},
   "source": [
    "### Playing with the data"
   ]
  },
  {
   "cell_type": "code",
   "execution_count": 5,
   "metadata": {},
   "outputs": [
    {
     "name": "stdout",
     "output_type": "stream",
     "text": [
      "(500, 3)\n"
     ]
    },
    {
     "data": {
      "text/html": [
       "<div>\n",
       "<style scoped>\n",
       "    .dataframe tbody tr th:only-of-type {\n",
       "        vertical-align: middle;\n",
       "    }\n",
       "\n",
       "    .dataframe tbody tr th {\n",
       "        vertical-align: top;\n",
       "    }\n",
       "\n",
       "    .dataframe thead th {\n",
       "        text-align: right;\n",
       "    }\n",
       "</style>\n",
       "<table border=\"1\" class=\"dataframe\">\n",
       "  <thead>\n",
       "    <tr style=\"text-align: right;\">\n",
       "      <th></th>\n",
       "      <th>article_id</th>\n",
       "      <th>article</th>\n",
       "      <th>abstract</th>\n",
       "    </tr>\n",
       "  </thead>\n",
       "  <tbody>\n",
       "    <tr>\n",
       "      <th>0</th>\n",
       "      <td>gr-qc0101015</td>\n",
       "      <td>[there is considerable current interest in stu...</td>\n",
       "      <td>[&lt;S&gt; in this paper we consider the collision o...</td>\n",
       "    </tr>\n",
       "    <tr>\n",
       "      <th>1</th>\n",
       "      <td>0803.1640</td>\n",
       "      <td>[the first data system requiring dark energy (...</td>\n",
       "      <td>[&lt;S&gt; upcoming weak lensing ( wl ) surveys can ...</td>\n",
       "    </tr>\n",
       "    <tr>\n",
       "      <th>2</th>\n",
       "      <td>1510.01821</td>\n",
       "      <td>[quantum key distribution ( qkd ) is the first...</td>\n",
       "      <td>[&lt;S&gt; the fully symmetric gaussian tripartite e...</td>\n",
       "    </tr>\n",
       "    <tr>\n",
       "      <th>3</th>\n",
       "      <td>1105.2448</td>\n",
       "      <td>[the active galactic nucleus ( agn ) unificati...</td>\n",
       "      <td>[&lt;S&gt; x - ray unabsorbed seyfert 2 galaxies app...</td>\n",
       "    </tr>\n",
       "    <tr>\n",
       "      <th>4</th>\n",
       "      <td>1602.04433</td>\n",
       "      <td>[deep neural networks have significantly impro...</td>\n",
       "      <td>[&lt;S&gt; the recent success of deep neural network...</td>\n",
       "    </tr>\n",
       "  </tbody>\n",
       "</table>\n",
       "</div>"
      ],
      "text/plain": [
       "     article_id                                            article  \\\n",
       "0  gr-qc0101015  [there is considerable current interest in stu...   \n",
       "1     0803.1640  [the first data system requiring dark energy (...   \n",
       "2    1510.01821  [quantum key distribution ( qkd ) is the first...   \n",
       "3     1105.2448  [the active galactic nucleus ( agn ) unificati...   \n",
       "4    1602.04433  [deep neural networks have significantly impro...   \n",
       "\n",
       "                                            abstract  \n",
       "0  [<S> in this paper we consider the collision o...  \n",
       "1  [<S> upcoming weak lensing ( wl ) surveys can ...  \n",
       "2  [<S> the fully symmetric gaussian tripartite e...  \n",
       "3  [<S> x - ray unabsorbed seyfert 2 galaxies app...  \n",
       "4  [<S> the recent success of deep neural network...  "
      ]
     },
     "execution_count": 5,
     "metadata": {},
     "output_type": "execute_result"
    }
   ],
   "source": [
    "print(df.shape)\n",
    "df.head()"
   ]
  },
  {
   "cell_type": "code",
   "execution_count": 31,
   "metadata": {},
   "outputs": [
    {
     "name": "stdout",
     "output_type": "stream",
     "text": [
      "idx: 442\n",
      "id: 1502.07553\n"
     ]
    }
   ],
   "source": [
    "# Pick a specific or random example\n",
    "example = df.iloc[442]\n",
    "# example = df.sample(n=1).iloc[0]\n",
    "print(f\"idx: {example.name}\")\n",
    "print(f\"id: {example['article_id']}\")"
   ]
  },
  {
   "attachments": {},
   "cell_type": "markdown",
   "metadata": {},
   "source": [
    "#### Not LaTeX stuff"
   ]
  },
  {
   "cell_type": "code",
   "execution_count": 32,
   "metadata": {},
   "outputs": [
    {
     "data": {
      "text/plain": [
       "['<S> the opening of a gap in single - layer graphene is often ascribed to the breaking of the equivalence between the two carbon sublattices . </S>',\n",
       " \"<S> we show by angle - resolved photoemission spectroscopy that ir- and na - modified graphene grown on the ir(111 ) surface presents a very large unconventional gap that can be described in terms of a phenomenological `` massless '' dirac model . </S>\",\n",
       " '<S> we discuss the consequences and differences of this model in comparison of the standard massive gap model , and we investigate the conditions under which such anomalous gap can arise from a spontaneous symmetry breaking . </S>',\n",
       " '<S> keywords : graphene , bandgap , dirac cone , angle - resolved - photoemission </S>']"
      ]
     },
     "execution_count": 32,
     "metadata": {},
     "output_type": "execute_result"
    }
   ],
   "source": [
    "example[\"abstract\"]"
   ]
  },
  {
   "cell_type": "code",
   "execution_count": 33,
   "metadata": {},
   "outputs": [
    {
     "data": {
      "text/plain": [
       "['the isolation of single - layer and few - layer graphene has triggered a huge burst of interest , mainly motivated by the observation of unconventional electronic properties , which stem from the dirac - like low - energy electronic structure of graphene characterized by a gapless conical dispersion [ ] .',\n",
       " 'the huge electronic mobility of free - standing graphene originates from its chiral properties , tightly linked with the lack of electron backscattering phenomena near the fermi level [ ] .',\n",
       " 'a drawback of this characteristic band structure is the absence of an energy gap between the dirac cones , which would be highly desirable for the exploitation of graphene in device applications .',\n",
       " 'so far , however , the effective employment of graphene - based materials in low - energy electronics has been hindered by the difficulty of opening a bandgap without affecting the electronic mobility .',\n",
       " 'understanding the fundamental mechanisms responsible of gap opening in graphene is thus of the highest importance in the perspective of engineering new efficient switch on / off devices .    from the theoretical point of view , the simplest way to open a gap in the conical dirac - like dispersion of a two - dimensional honeycomb material']"
      ]
     },
     "execution_count": 33,
     "metadata": {},
     "output_type": "execute_result"
    }
   ],
   "source": [
    "example[\"article\"][:5]"
   ]
  },
  {
   "cell_type": "code",
   "execution_count": 34,
   "metadata": {},
   "outputs": [],
   "source": [
    "# convience function to print a set\n",
    "def print_set(s, joiner=' ', sort=True):\n",
    "    if sort:\n",
    "        s = sorted(s)\n",
    "    if joiner is None:\n",
    "        return s\n",
    "    if len(s)!=0 and s[0] is not str:\n",
    "        s = [str(x) for x in s]\n",
    "    return joiner.join(s)"
   ]
  },
  {
   "cell_type": "code",
   "execution_count": 35,
   "metadata": {},
   "outputs": [
    {
     "name": "stdout",
     "output_type": "stream",
     "text": [
      "All Characters: $ & ' ( ) * + , - . / : ; < = > @ [ \\ ] _ ` { | }\n",
      "Abstract Exclusive Characters: < >\n",
      "Article Exclusive Characters: $ & ' ( ) * + , - . / : ; = @ [ \\ ] _ ` { | }\n"
     ]
    }
   ],
   "source": [
    "# See what kind of non alpha numeric characters are left over\n",
    "abstract_chars = set(re.findall(r\"[^a-zA-Z0-9 ]\", ' '.join(example[\"abstract\"])))\n",
    "article_char = set(re.findall(r\"[^a-zA-Z0-9 ]\", ' '.join(example[\"article\"])))\n",
    "total_chars = abstract_chars.union(article_char)\n",
    "abstract_chars = total_chars - article_char\n",
    "article_char = total_chars - abstract_chars\n",
    "print(f\"All Characters: {print_set(total_chars)}\")\n",
    "print(f\"Abstract Exclusive Characters: {print_set(abstract_chars)}\")\n",
    "print(f\"Article Exclusive Characters: {print_set(article_char)}\")"
   ]
  },
  {
   "cell_type": "code",
   "execution_count": 36,
   "metadata": {},
   "outputs": [
    {
     "name": "stdout",
     "output_type": "stream",
     "text": [
      "All Tags: </S> <S>\n",
      "Abstract Exclusive Tags: </S> <S>\n",
      "Article Exclusive Tags: \n"
     ]
    }
   ],
   "source": [
    "# Dataset used tags for various things. Check if there are any tags still left\n",
    "abstract_tags = set(re.findall(r\"<[/]?\\w+[/]?>\", ' '.join(example[\"abstract\"])))\n",
    "article_tags = set(re.findall(r\"<[/]?\\w+[/]?>\", ' '.join(example[\"article\"])))\n",
    "total_tags = abstract_tags.union(article_tags)\n",
    "abstract_tags = total_tags - article_tags\n",
    "article_tags = total_tags - abstract_tags\n",
    "print(f\"All Tags: {print_set(total_tags)}\")\n",
    "print(f\"Abstract Exclusive Tags: {print_set(abstract_tags)}\")\n",
    "print(f\"Article Exclusive Tags: {print_set(article_tags)}\")"
   ]
  },
  {
   "cell_type": "code",
   "execution_count": 37,
   "metadata": {},
   "outputs": [
    {
     "name": "stdout",
     "output_type": "stream",
     "text": [
      "Abstract Indices with multiple sentences: 3/4\n",
      "\t(1, 1) (2, 3)\n",
      "Article Indices with multiple sentences: 60/158\n",
      "\t(1, 98) (2, 53) (3, 6) (4, 1)\n"
     ]
    }
   ],
   "source": [
    "# Are there any indices with multiple sentences?\n",
    "abstract_sent_counts = [len(nltk.tokenize.sent_tokenize(sent)) for sent in example[\"abstract\"]]\n",
    "article_sent_counts = [len(nltk.tokenize.sent_tokenize(sent)) for sent in example[\"article\"]]\n",
    "\n",
    "print(f\"Abstract Indices with multiple sentences: {  sum([1 for count in abstract_sent_counts if count > 1])  }/{  len(example.abstract)  }\")\n",
    "abstract_sent_counts = [(i, abstract_sent_counts.count(i)) for i in set(abstract_sent_counts)]\n",
    "print(\"\\t\" + print_set(abstract_sent_counts))\n",
    "\n",
    "print(f\"Article Indices with multiple sentences: {  sum([1 for count in article_sent_counts if count > 1])  }/{  len(example.article)  }\")\n",
    "article_sent_counts = [(i, article_sent_counts.count(i)) for i in set(article_sent_counts)]\n",
    "print(\"\\t\" + print_set(article_sent_counts))"
   ]
  },
  {
   "cell_type": "code",
   "execution_count": 38,
   "metadata": {},
   "outputs": [
    {
     "name": "stdout",
     "output_type": "stream",
     "text": [
      "( [ coulomb ] ) ( [ emish ] ) ( [ fock ] ) ( [ gap ] ) ( [ h0 ] ) ( [ heff ] ) ( [ hgap ] ) ( [ inst ] ) ( [ lastgap ] ) ( [ less ] )\n"
     ]
    }
   ],
   "source": [
    "# The document also has some weird tags\n",
    "weird_tags = set(re.findall(r\"\\( \\[ [^\\(\\[\\)\\]]+ \\] \\)\", ' '.join(example[\"article\"])))\n",
    "print(print_set(weird_tags))"
   ]
  },
  {
   "cell_type": "code",
   "execution_count": 39,
   "metadata": {},
   "outputs": [
    {
     "name": "stdout",
     "output_type": "stream",
     "text": [
      "@xmath\n"
     ]
    }
   ],
   "source": [
    "# There are these other weird tags, but I think I'm going to try keeping them\n",
    "weird_tags = set(re.findall(r\"@x[a-z]+\", ' '.join(example[\"article\"])))\n",
    "print(print_set(weird_tags))"
   ]
  },
  {
   "attachments": {},
   "cell_type": "markdown",
   "metadata": {},
   "source": [
    "#### Figuring out how to deal with LaTex\n",
    "The dataset has most latex parsed out but there is still a decent amount remaining... and due to the poor attempt made previously, it's really hard to parse out the stragglers"
   ]
  },
  {
   "cell_type": "code",
   "execution_count": 40,
   "metadata": {},
   "outputs": [],
   "source": [
    "# Removing weird tags for now\n",
    "example_article = ' '.join(example.article)\n",
    "example_article = re.sub(r\"\\( \\[ [^\\(\\[\\)\\]]+ \\] \\)\", \"\", example_article)\n",
    "example_article = re.sub(r\"\\n\", \"\", example_article)"
   ]
  },
  {
   "cell_type": "code",
   "execution_count": 41,
   "metadata": {},
   "outputs": [
    {
     "name": "stdout",
     "output_type": "stream",
     "text": [
      "ces a and b. this corresponds to include a @xmath0 term in the dirac - like hamiltonian : @xmath1 + \\frac{\\delta}{2}\\hat{\\sigma}_z , \\label{hgap}\\end{aligned}\\ ] ] where @xmath2 is the dirac velocity , @xmath3 is the momentum relative to the k point , and whe\n",
      "\n",
      "ies . as mentioned above , the characteristic energy - momentum dispersion results to be @xmath34 . \\label{eless}\\end{aligned}\\ ] ] note that this models accounts in a simple way for the anomalous features described in the intr\n",
      "\n",
      "xmath73 , @xmath74 ) , @xmath75 is the spinor in the sublattice basis @xmath76 , and where @xmath77.\\end{aligned}\\ ] ]    we assume a long - range coulomb interaction which can we written in the momentum space as : @xmath78 where @xmath79 , and where @xmath80/\\epsilon_0 \\kappa   |{\\bf q}|$ ] . the term @xmath81 $ ] in @xmath82 takes into account the subtraction of the positive cha\n",
      "\n",
      ".  , or , equivalently , neglecting @xmath97 in the right side term of eq .  , we obtain : @xmath98 \\label{alpha}\\end{aligned}\\ ] ] where @xmath99 is the coupling constant for suspended graphene , @xmath100 is a high - momentum\n",
      "\n",
      "der phase transition . in order to address this possibility , we rewrite eq .  as : @xmath105 & = & \\hat{h}_0({\\bf k } ) , \\label{hself}\\end{aligned}\\ ] ] where @xmath106 $ ] is the functional @xmath106=t \\sum_{{\\bf p},n } v({\\bf k - p})/ [ i\\omega_n\\hat{i}-\\hat{x}]$ ] . broken symmetry phases can be generated when the equation @xmath107 & = & 0 \\label{inst}\\end{aligned}\\ ] ] admits a non - trivial solution @xmath108 . we are here interested only in investigating the in\n",
      "\n",
      "he self - energy many - body effects driven by the coulomb interactions , and approximate @xmath114=\\hbar v |{\\bf p}|$ ] .  can be used to investigate the instability towards both a massive as well as massless g\n",
      "\n",
      "sistent solution @xmath127 . we obtain thus the susceptibility equation : @xmath128 where @xmath129 \\simeq 1.13 . \\label{chi2}\\end{aligned}\\ ] ] for free - standing graphene with @xmath130 we can predict thus a finite critical coupling @xma\n",
      "\n",
      " a spontaneous generation of mass . such instability can be determined by using the ansatz @xmath133\\hat{\\sigma}_z$ ] in eq .  . after few straightforward steps , we obtain the susceptibility equation @xmat\n"
     ]
    }
   ],
   "source": [
    "# Find groups of LaTeX (if any \\ is within 100 characters of another \\ then it is a group)\n",
    "math_groups = [x.group() for x in re.finditer(r\"([^\\\\]{0,100}\\\\[^\\\\]{0,100})+\", example_article)]\n",
    "print(\"\\n\\n\".join(math_groups))"
   ]
  },
  {
   "cell_type": "code",
   "execution_count": 42,
   "metadata": {},
   "outputs": [
    {
     "name": "stdout",
     "output_type": "stream",
     "text": [
      "ces a and b. this corresponds to include a @xmath0 term in the dirac - like hamiltonian : @xmath1 + \\frac{\\delta}{2}\\hat{\\sigma}_z , \\label{hgap} where @xmath2 is the dirac velocity , @xmath3 is the momentum relative to the k point , and whe\n",
      "\n",
      "ies . as mentioned above , the characteristic energy - momentum dispersion results to be @xmath34 . \\label{eless} note that this models accounts in a simple way for the anomalous features described in the intr\n",
      "\n",
      "xmath73 , @xmath74 ) , @xmath75 is the spinor in the sublattice basis @xmath76 , and where @xmath77.    we assume a long - range coulomb interaction which can we written in the momentum space as : @xmath78 where @xmath79 , and where @xmath80/\\epsilon_0  in @xmath82 takes into account the subtraction of the positive cha\n",
      "\n",
      ".  , or , equivalently , neglecting @xmath97 in the right side term of eq .  , we obtain : @xmath98 \\label{alpha} where @xmath99 is the coupling constant for suspended graphene , @xmath100 is a high - momentum\n",
      "\n",
      "der phase transition . in order to address this possibility , we rewrite eq .  as : @xmath105 & = & \\hat{h}_0({\\bf k } ) ,  is the functional @xmath106=t \\sum_{{\\bf p},n } v({\\bf k - p})/ [ i\\omega_n . broken symmetry phases can be generated when the equation @xmath107 & = & 0 \\label{inst} admits a non - trivial solution @xmath108 . we are here interested only in investigating the in\n",
      "\n",
      "he self - energy many - body effects driven by the coulomb interactions , and approximate @xmath114=\\hbar v |{ .  can be used to investigate the instability towards both a massive as well as massless g\n",
      "\n",
      "sistent solution @xmath127 . we obtain thus the susceptibility equation : @xmath128 where @xmath129 \\simeq 1.13 . \\label{chi2} for free - standing graphene with @xmath130 we can predict thus a finite critical coupling @xma\n",
      "\n",
      " a spontaneous generation of mass . such instability can be determined by using the ansatz @xmath133\\hat{ in eq .  . after few straightforward steps , we obtain the susceptibility equation @xmat\n"
     ]
    }
   ],
   "source": [
    "# A common pattern I want to remove is \\blah \\blah blah ] ]\n",
    "math_groups = [regex.sub(r\"(\\\\((?>[^\\\\\\]]+|(?R))*+)])\", \"\", math_group) for math_group in math_groups]\n",
    "print(\"\\n\\n\".join(math_groups))"
   ]
  },
  {
   "cell_type": "code",
   "execution_count": 43,
   "metadata": {},
   "outputs": [
    {
     "name": "stdout",
     "output_type": "stream",
     "text": [
      "ces a and b. this corresponds to include a @xmath0 term in the dirac - like hamiltonian : @xmath1 + _z ,  where @xmath2 is the dirac velocity , @xmath3 is the momentum relative to the k point , and whe\n",
      "\n",
      "ies . as mentioned above , the characteristic energy - momentum dispersion results to be @xmath34 .  note that this models accounts in a simple way for the anomalous features described in the intr\n",
      "\n",
      "xmath73 , @xmath74 ) , @xmath75 is the spinor in the sublattice basis @xmath76 , and where @xmath77.    we assume a long - range coulomb interaction which can we written in the momentum space as : @xmath78 where @xmath79 , and where @xmath80/  in @xmath82 takes into account the subtraction of the positive cha\n",
      "\n",
      ".  , or , equivalently , neglecting @xmath97 in the right side term of eq .  , we obtain : @xmath98  where @xmath99 is the coupling constant for suspended graphene , @xmath100 is a high - momentum\n",
      "\n",
      "der phase transition . in order to address this possibility , we rewrite eq .  as : @xmath105 & = & _0({ k } ) ,  is the functional @xmath106=t  v({ k - p})/ [ i . broken symmetry phases can be generated when the equation @xmath107 & = & 0  admits a non - trivial solution @xmath108 . we are here interested only in investigating the in\n",
      "\n",
      "he self - energy many - body effects driven by the coulomb interactions , and approximate @xmath114= v |{ .  can be used to investigate the instability towards both a massive as well as massless g\n",
      "\n",
      "sistent solution @xmath127 . we obtain thus the susceptibility equation : @xmath128 where @xmath129  1.13 .  for free - standing graphene with @xmath130 we can predict thus a finite critical coupling @xma\n",
      "\n",
      " a spontaneous generation of mass . such instability can be determined by using the ansatz @xmath133{ in eq .  . after few straightforward steps , we obtain the susceptibility equation @xmat\n"
     ]
    }
   ],
   "source": [
    "# Try removing the latex expressions (this is really slow and annoying to work with after)\n",
    "# latex_removed = [pi.strict(sent) for sent in math_groups]\n",
    "\n",
    "# Alternatively, we can try removing words that start with a backslash and have curly brace groups afterwards\n",
    "latex_removed = [regex.sub(r\"((?>\\\\[^\\s{]*+)({(?>[^{}]+|(?2))*+})*)\", \"\", sent) for sent in math_groups]\n",
    "\n",
    "print(\"\\n\\n\".join(latex_removed))"
   ]
  },
  {
   "cell_type": "code",
   "execution_count": 44,
   "metadata": {},
   "outputs": [
    {
     "name": "stdout",
     "output_type": "stream",
     "text": [
      "ces a and b. this corresponds to include a @xmath0 term in the dirac like hamiltonian : @xmath1 ,  where @xmath2 is the dirac velocity , @xmath3 is the momentum relative to the k point , and whe\n",
      "\n",
      "ies . as mentioned above , the characteristic energy momentum dispersion results to be @xmath34 .  note that this models accounts in a simple way for the anomalous features described in the intr\n",
      "\n",
      "xmath73 , @xmath74 , @xmath75 is the spinor in the sublattice basis @xmath76 , and where @xmath77.    we assume a long range coulomb interaction which can we written in the momentum space as : @xmath78 where @xmath79 , and where @xmath80 in @xmath82 takes into account the subtraction of the positive cha\n",
      "\n",
      ".  , or , equivalently , neglecting @xmath97 in the right side term of eq .  , we obtain : @xmath98  where @xmath99 is the coupling constant for suspended graphene , @xmath100 is a high momentum\n",
      "\n",
      "der phase transition . in order to address this possibility , we rewrite eq .  as : @xmath105 0 ,  is the functional @xmath106 i . broken symmetry phases can be generated when the equation @xmath107 0  admits a non trivial solution @xmath108 . we are here interested only in investigating the in\n",
      "\n",
      "he self energy many body effects driven by the coulomb interactions , and approximate @xmath114 .  can be used to investigate the instability towards both a massive as well as massless g\n",
      "\n",
      "sistent solution @xmath127 . we obtain thus the susceptibility equation : @xmath128 where @xmath129  1.13 .  for free standing graphene with @xmath130 we can predict thus a finite critical coupling @xma\n",
      "\n",
      " a spontaneous generation of mass . such instability can be determined by using the ansatz @xmath133 in eq .  . after few straightforward steps , we obtain the susceptibility equation @xmat\n"
     ]
    }
   ],
   "source": [
    "# Remove the groups of non standard characters\n",
    "reg_exp = r\"((?![a-zA-Z] )(?:[a-zA-Z ]{0,2}[^a-zA-Z0-9.,;:@\\s][a-zA-Z ]{0,2})+(?<! [a-zA-Z]))\"\n",
    "special_chars_removed = [re.sub(reg_exp, \" \", sent) for sent in latex_removed]\n",
    "print(\"\\n\\n\".join(special_chars_removed))"
   ]
  },
  {
   "cell_type": "code",
   "execution_count": 45,
   "metadata": {},
   "outputs": [
    {
     "name": "stdout",
     "output_type": "stream",
     "text": [
      "ces a and b. this corresponds to include a @xmath0 term in the dirac like hamiltonian : @xmath1 , where @xmath2 is the dirac velocity , @xmath3 is the momentum relative to the k point , and whe\n",
      "\n",
      "ies . as mentioned above , the characteristic energy momentum dispersion results to be @xmath34 . note that this models accounts in a simple way for the anomalous features described in the intr\n",
      "\n",
      "xmath73 , @xmath74 , @xmath75 is the spinor in the sublattice basis @xmath76 , and where @xmath77. we assume a long range coulomb interaction which can we written in the momentum space as : @xmath78 where @xmath79 , and where @xmath80 in @xmath82 takes into account the subtraction of the positive cha\n",
      "\n",
      ". , or , equivalently , neglecting @xmath97 in the right side term of eq . , we obtain : @xmath98 where @xmath99 is the coupling constant for suspended graphene , @xmath100 is a high momentum\n",
      "\n",
      "der phase transition . in order to address this possibility , we rewrite eq . as : @xmath105 0 , is the functional @xmath106 i . broken symmetry phases can be generated when the equation @xmath107 0 admits a non trivial solution @xmath108 . we are here interested only in investigating the in\n",
      "\n",
      "he self energy many body effects driven by the coulomb interactions , and approximate @xmath114 . can be used to investigate the instability towards both a massive as well as massless g\n",
      "\n",
      "sistent solution @xmath127 . we obtain thus the susceptibility equation : @xmath128 where @xmath129 1.13 . for free standing graphene with @xmath130 we can predict thus a finite critical coupling @xma\n",
      "\n",
      " a spontaneous generation of mass . such instability can be determined by using the ansatz @xmath133 in eq . . after few straightforward steps , we obtain the susceptibility equation @xmat\n"
     ]
    }
   ],
   "source": [
    "compress_spaces = [re.sub(r\"\\s+\", \" \", sent) for sent in special_chars_removed]\n",
    "print(\"\\n\\n\".join(compress_spaces))"
   ]
  },
  {
   "attachments": {},
   "cell_type": "markdown",
   "metadata": {},
   "source": [
    "This was a pain in the ass but I think it works pretty well"
   ]
  },
  {
   "attachments": {},
   "cell_type": "markdown",
   "metadata": {},
   "source": [
    "#### The whole latex removal pipeline"
   ]
  },
  {
   "cell_type": "code",
   "execution_count": 22,
   "metadata": {},
   "outputs": [
    {
     "name": "stdout",
     "output_type": "stream",
     "text": [
      "it is a fact of life , and one that has been exploited again and again at this meeting , that even gauge invariant objects are more transparent in a specific gauge .\n",
      "for example , the static interquark potential , which has a well known gauge invariant definition , is often best treated in coulomb gauge see , for example , @xcite and more recently @xcite as this gauge is , in some way , closely adapted to that physical system .\n",
      "usually such a choice of gauge is a simple pragmatic decision based on the simplicity of the resulting calculation .\n",
      "however , what we d like to argue is that the connection between such an adapted gauge and the correct gauge invariant description , often goes much deeper @xcite .\n",
      "we will see that such appropriate gauge fixings , once recognised , can lead to an understanding of the dominant contribution to the gauge invariant description of the relevant physical degrees of freedom .\n",
      "for monopoles and vortices , where gauge invariant formulation do not yet exist , understanding this route from gauge fixing to gauge invariance is of central importance if we are ever to understand fully their roles in the non perturbative structure of qcd .\n",
      "in order to map out the connection between static quarks and the coulomb gauge , we need to make precise just what we mean by saying that a field @xmath0 describes a static quark .\n",
      "first , to capture the requirement that quarks carry colour , the field @xmath0 can not be a coloured singlet under the global gauge transformation although it must be gauge invariant under the local gauge transformations .\n",
      "this tells us straight away that it can not be identified with the matter field @xmath1 that enters directly into the formulation of the theory since under a gauge transformation we have @xmath2 .\n",
      "what we must have is that @xmath3 , for some field dependent configuration @xmath4 , where under a gauge transformation we have @xmath5 we call @xmath4 a dressing for the charge .\n",
      "it incorporates the cloud of fields around any charge .\n",
      "to impose the static condition that @xmath6 , we need to realise that static means infinite mass and hence we can exploit the dynamical simplification that comes from the heavy quark effective theory .\n",
      "that is , we can use the equations of motion that the matter field is covariantly constant : @xmath7 .\n",
      "using this , and the condition that @xmath0 is static , it is easy to see that the dressing must satisfy the static dressing equation @xmath8 equations and are the fundamental conditions the dressing must satisfy in order to construct a static charge .\n",
      "explicit solutions to them can be found in qed @xcite , and perturbative solutions to them can be constructed in qcd @xcite .\n",
      "the point to note here is that the resulting dressing has structu .\n",
      "the charged field factorises into the product of two separately gauge invariant terms @xmath9 the bracketed term involves an anti time ordering while the rest of the expression is local in time but non local in space .\n",
      "we call @xmath10 the minimal part of the dressing as it is essential for the overall gauge invariance of the charge .\n",
      "additional terms , such as @xmath11 in , are not expected from the overall requirement of gauge invariance .\n",
      "rather , they are needed to ensure the correct dynamical properties of the charge .\n",
      "the significance of this factorisation can be seen in either the infra red properties of the fields or in the forces between two such charges .\n",
      "it emerges @xcite that in qed the minimal part of the dressing is responsible for controlling the soft infra red structure of the theory , while the additional part deals with the phase divergences .\n",
      "in terms of forces @xcite , the minimal part gives the anti screening contribution to the inter quark potential , while the additional term is needed for the lesser screening forces .\n",
      "given the dominance of anti screening over screening , we see that the minimal part of the dressing is capturing the dominant glue content of a static charge .\n",
      "there are many important and interesting properties of these fields , but the key thing to note here is that the minimal part of the dressing becomes the identity in coulomb gauge .\n",
      "this important fact is most easily seen in qed where @xmath12 and @xmath13 is the classical coulombic electric field of a static charge .\n",
      "we see that coulomb gauge is the unique gauge that trivialises the dominant part of the static dressing .\n",
      "this now makes precise the sense in which the coulomb gauge is adapted to the description of static charges .\n",
      "knowing this connection can , in turn , provide an efficient means for calculating the minimal part of the dressing which is , as we ve seen , essential for a gauge invariant description of the static charge .\n",
      "this connection between gauge invariance and gauge fixing can be generalised to moving charges @xcite and it can also be given a simple geometric and hence global interpretation @xcite .\n",
      "the conclusion from such an analysis is that in qcd there is a global obstruction to the construction of a static coloured charge , and that this is how confinement is seen in this approach .\n",
      "we now want to consider a pure non abelian gauge theory and show how a monopole creation operator can be constructed .\n",
      "the are several reasons for wanting to do this , the most immediate being to allow for the construction of new order parameters with which the dual superconductor account of confinement can be tested .\n",
      "it is also , as we ll see , an interesting theoretical study of the relation between classical solutions and quantum configurations in gauge theories .\n",
      "to motivate our approach , we note that in dirac s original account of the construction of electric charges @xcite , he arrived at the minimal , abelian , static dressing by noting that its commutator with the electric field operator generated the coulombic electric field expected from a static charge .\n",
      "as we will see , a similar argument can be applied to monopoles .\n",
      "let us start again in the abelian theory .\n",
      "suppose that @xmath14 is the classical dirac monopole potential @xcite .\n",
      "then it is straightforward to see that the operator @xmath15 is gauge invariant will yield different , but weakly equivalent monopole operators .\n",
      "thus the ability to move the dirac string is seen in the weak equivalence of the construction .\n",
      "and its equal time commutator with the potential is @xmath16 so we can interpret @xmath17 as a monopole creation operator for the pure abelian theory .\n",
      "although this operator allows us to rederive many of the important properties of monopoles , the singularity of the potential @xmath18 makes this an artificial construction in qed .\n",
      "this reflects the fact that we do not expect monopoles in such an abelian theory .\n",
      "however , in non abelian theories regular monopole solutions are known to exist when spontaneous symmetry breaking occurs , and they are conjectured to exist and to play an important role in pure gauge theories see for example , ref @xcite .\n",
      "with this in mind , we now investigate how can be generalised to the non abelian theory .\n",
      "the naive extension of this simple construction to a non abelian theory , where we replace the abelian potential @xmath18 by a non abelian one @xmath19 and the electric field @xmath20 by its chromo electric generalisation @xmath21 , runs into two immediate problems .\n",
      "the first is to decide on how to generalise the classical dirac monopole configuration .\n",
      "the second is maintaining gauge invariance since , as is well known , the chromo electric field is not gauge invariant .\n",
      "if we now specialise to a pure 2 gauge theory , then there is a natural candidate for a monopole configuration first written down by wu and yang @xcite : @xmath22 this is a solution to the classical yang mills equations of motion which , through a singular gauge transformation , can be related to the abelian monopole configuration .\n",
      "it should be noted , though , that it is an unstable solution @xcite .\n",
      "how this is modified or reflected in the quantum theory is , however , unknown .\n",
      "the gauge non invariance of the chromo electric field seems a much more serious obstacle to the construction of a non abelian generalisation of .\n",
      "extending the dressing technique used in the description of a static charge , we will solve this problem by dressing the chromo electric field @xmath23 where the dressing transforms as in so that @xmath24 is now gauge invariant .\n",
      "the monopole creation operator generalising is then @xmath25 given that we want to describe a static monopole , i.e.\n",
      ", it should not generate a chromo electric field , we require @xmath26 0 .\n",
      ", the dressing must solely depend on the chromo electric field .\n",
      "as such , we can not simply use the dressing constructed in to describe a static quark .\n",
      "to proceed , we recall the close relation between monopoles and abelian gauge fixing @xcite .\n",
      "following our method for describing the minimally dressed static quark , we will exploit this adapted class of gauge fixings to construct a gauge invariant chromo electric field and hence the dressing needed in .\n",
      "gauge fixing in the chromo electric sector is , as far as we know , not well studied .\n",
      "the interesting point here is that it is not possible to fully fix the gauge .\n",
      "in terms of constraints , one can easily see that it is impossible to construct a complete second class set out of gauss law and functions of just the chromo electric field .\n",
      "however , second class subsets can be found that are valid on regions of the phase space .\n",
      "to see how this works , consider the simple chromo electric gauge @xmath28 these , along with the components @xmath29 and @xmath30 of gauss law , form a second class set of constraints as long as @xmath31 .\n",
      "to implement this reduction then , we should restrict ourselves to the regions in phase space where either @xmath32 or @xmath33 .\n",
      "if @xmath34 , then we can either take it and one of the components in as our gauge , or we can choose another gauge by looking at , say , the @xmath35 components of the chromo electric field .\n",
      "in this way , through a patching process , we can implement a chromo electric gauge fixing that is only ill defined on configurations which have zero field strength .\n",
      "we do not yet fully understand the effect of such instanton configurations on our monopole construction , so for the moment we will neglect them and , for simplicity , just consider the gauge in the region @xmath32 .\n",
      "having settled on a gauge that we know is adapted , or at least sympathetic , to the non abelian monopole configuration , we now have to find the dressing needed in by rotating our fields into the gauge fixed configuration .\n",
      "for a configuration space gauge fixing , such as the coulomb gauge , we were guaranteed that the resulting dressing would at least locally satisfy the fundamental relation .\n",
      "the incompleteness of the chromo electric gauge fixing , though , means that a little more work is needed to get the correct transformation properties of the dressing .\n",
      "in terms of the dressed fields , we need to solve the equations @xmath36 .\n",
      "now @xmath37 where @xmath38 is a rotation matrix .\n",
      "hence we wish to solve @xmath39 and @xmath40 .\n",
      "these two equations are simple vector equations and can be immediately solved as follows .\n",
      "take @xmath41 where @xmath42 and @xmath43 is , for the moment , an arbitrary unit vector .\n",
      "then @xmath44 and @xmath45 these allow us to construct the rotation matrix and check gauge invariance of the resulting dressed chromo electric field .\n",
      "for the third colour component gauge invariance is immediate since @xmath46 we further note that @xmath47 , which with our restriction that @xmath32 is just @xmath48 in the gauge .\n",
      "for the other components of the dressed chromo electric field , though , gauge invariance can only be ensured through a good choice of @xmath49 .\n",
      "from the definition we have @xmath50 and @xmath51 gauge invariance will follow if @xmath52 is proportional to @xmath53 .\n",
      "however , from , we also need @xmath49 orthogonal to @xmath54 .\n",
      "there are various ways to satisfy these conditions for gauge invariance .\n",
      "for example , we could take @xmath55 in summary , we have seen in this section how to generalise the abelian monopole creation operator to yield a gauge invariant monopole operator .\n",
      "this was done by construction a chromo electric dressing adapted to the chromo electric gauge fixing .\n",
      "an important contribution to the dressing approach to gauge invariance is the recognition that there are special adapted gauges that have a particular significance for the description of both chromo electric and magnetic charges in non abelian gauge theories .\n",
      "for electric charges in both qed and qcd , these adapted gauges followed naturally from a more fundamental dressing equation .\n",
      "solving that equation factorises the dressing into a dominant anti screening term that controlled the soft infra red sector and an additional screening term .\n",
      "for a specific dynamical configuration for the charges , the adapted gauge trivialises the dominant part of the dressing .\n",
      "however , it should be stressed that in a scattering situation where charges with differing momentum must be dressed differently , there is no gauge in which all the different dressings so simplify .\n",
      "in pure 2 theory we have seen how to go from chromo electric gauge fixing to a gauge invariant monopole creation operator .\n",
      "as yet there is no analogous dynamical approach to this dressing .\n",
      "it is hoped , though , that through our recognition of the adapted gauge to this system we have also captured the dominant monopole configuration .\n",
      "this will allow us to further probe the role of monopoles in confinement .\n"
     ]
    }
   ],
   "source": [
    "# Removing weird tags for now\n",
    "example_article = ' '.join(example.article)\n",
    "example_article = re.sub(r\"\\( \\[ [^\\(\\[\\)\\]]+ \\] \\)\", \"\", example_article)\n",
    "example_article = re.sub(r\"\\n\", \"\", example_article)\n",
    "\n",
    "# REMOVING LATEX\n",
    "# Remove \\blah \\blah blah ] ]\n",
    "example_article = regex.sub(r\"(\\\\((?>[^\\\\\\]]+|(?R))*+)])\", \"\", example_article)\n",
    "\n",
    "# Remove words that start with a backslash and have curly brace groups\n",
    "example_article = regex.sub(r\"((?>\\\\[^\\s{]*+)({(?>[^{}]+|(?2))*+})*)\", \"\", example_article)\n",
    "\n",
    "# Remove the groups of non standard characters\n",
    "reg_exp = r\"((?![a-zA-Z] )(?:[a-zA-Z ]{0,2}[^a-zA-Z0-9.,:@\\s][a-zA-Z ]{0,2})+(?<! [a-zA-Z]))\"\n",
    "example_article = re.sub(reg_exp, \" \", example_article)\n",
    "\n",
    "# Compress whitespace\n",
    "example_article = re.sub(r\"\\s+\", \" \", example_article)\n",
    "\n",
    "# Sentence tokenize\n",
    "example_article = nltk.tokenize.sent_tokenize(example_article)\n",
    "\n",
    "# Remove sentences that are too short (less than 5 words, excluding punctuation and numbers)\n",
    "example_article = list(filter(lambda x: len(list(filter(lambda x: x.isalpha(), x.split()))) > 5, example_article))\n",
    "\n",
    "print('\\n'.join(example_article))"
   ]
  },
  {
   "attachments": {},
   "cell_type": "markdown",
   "metadata": {},
   "source": [
    "## Cleaning the Data"
   ]
  },
  {
   "attachments": {},
   "cell_type": "markdown",
   "metadata": {},
   "source": [
    "#### Cleaning"
   ]
  },
  {
   "cell_type": "code",
   "execution_count": 5,
   "metadata": {},
   "outputs": [],
   "source": [
    "def remove_latex(doc):\n",
    "    # Remove \\blah \\blah blah ] ]\n",
    "    doc = regex.sub(r\"(\\\\((?>[^\\\\\\]]+|(?R))*+)])\", \"\", doc)\n",
    "\n",
    "    # Remove words that start with a backslash and have curly brace groups\n",
    "    doc = regex.sub(r\"((?>\\\\[^\\s{]*+)({(?>[^{}]+|(?2))*+})*)\", \"\", doc)\n",
    "\n",
    "    # Remove the groups of non standard characters\n",
    "    reg_exp = r\"((?![a-zA-Z] )(?:[a-zA-Z ]{0,2}[^a-zA-Z0-9.,:@\\s][a-zA-Z ]{0,2})+(?<! [a-zA-Z]))\"\n",
    "    doc = re.sub(reg_exp, \" \", doc)\n",
    "\n",
    "    # Compress whitespace\n",
    "    doc = re.sub(r\"\\s+\", \" \", doc)\n",
    "    return doc\n",
    "\n",
    "def normalize_document(doc):\n",
    "    # undo bad sent tokenization\n",
    "    doc = ' '.join(doc)\n",
    "\n",
    "    # remove \\n\n",
    "    doc = re.sub(r'\\n', ' ', doc)\n",
    "\n",
    "    # remove sentence tags from abstract\n",
    "    doc = re.sub(r'<S>|</S>', '', doc)\n",
    "\n",
    "    # remove weird tags: ( [ blah ] )\n",
    "    doc = re.sub(r\"\\( \\[ [^\\(\\[\\)\\]]+ \\] \\)\", \"\", doc)\n",
    "\n",
    "    # remove latex\n",
    "    doc = remove_latex(doc)\n",
    "\n",
    "    # Sentence tokenize\n",
    "    doc = nltk.tokenize.sent_tokenize(doc)\n",
    "\n",
    "    # Strip each sentence\n",
    "    doc = [sent.strip() for sent in doc]\n",
    "\n",
    "    # Remove sentences that are too short (less than 5 words, excluding punctuation and numbers)\n",
    "    doc = list(filter(lambda x: len(list(filter(lambda x: x.isalpha(), x.split()))) > 5, doc))\n",
    "    return doc\n",
    "\n",
    "def normalize_corpus(corpus):\n",
    "    return corpus.map(lambda x: normalize_document(x))"
   ]
  },
  {
   "cell_type": "code",
   "execution_count": 6,
   "metadata": {},
   "outputs": [
    {
     "name": "stdout",
     "output_type": "stream",
     "text": [
      "Normalizing article text...\n",
      "Normalizing abstract text...\n"
     ]
    }
   ],
   "source": [
    "cleaned_df = pd.DataFrame(columns=[\"article_id\", \"article\", \"abstract\"])\n",
    "cleaned_df[\"article_id\"] = df[\"article_id\"]\n",
    "print(\"Normalizing article text...\")\n",
    "cleaned_df[\"article\"] = normalize_corpus(df[\"article\"])\n",
    "print(\"Normalizing abstract text...\")\n",
    "cleaned_df[\"abstract\"] = normalize_corpus(df[\"abstract\"])"
   ]
  },
  {
   "attachments": {},
   "cell_type": "markdown",
   "metadata": {},
   "source": [
    "#### Looking at the results"
   ]
  },
  {
   "cell_type": "code",
   "execution_count": 7,
   "metadata": {},
   "outputs": [
    {
     "data": {
      "text/html": [
       "<div>\n",
       "<style scoped>\n",
       "    .dataframe tbody tr th:only-of-type {\n",
       "        vertical-align: middle;\n",
       "    }\n",
       "\n",
       "    .dataframe tbody tr th {\n",
       "        vertical-align: top;\n",
       "    }\n",
       "\n",
       "    .dataframe thead th {\n",
       "        text-align: right;\n",
       "    }\n",
       "</style>\n",
       "<table border=\"1\" class=\"dataframe\">\n",
       "  <thead>\n",
       "    <tr style=\"text-align: right;\">\n",
       "      <th></th>\n",
       "      <th>article_id</th>\n",
       "      <th>article</th>\n",
       "      <th>abstract</th>\n",
       "    </tr>\n",
       "  </thead>\n",
       "  <tbody>\n",
       "    <tr>\n",
       "      <th>0</th>\n",
       "      <td>gr-qc0101015</td>\n",
       "      <td>[there is considerable current interest in stu...</td>\n",
       "      <td>[in this paper we consider the collision of sp...</td>\n",
       "    </tr>\n",
       "    <tr>\n",
       "      <th>1</th>\n",
       "      <td>0803.1640</td>\n",
       "      <td>[the first data system requiring dark energy c...</td>\n",
       "      <td>[upcoming weak lensing surveys can be used to ...</td>\n",
       "    </tr>\n",
       "    <tr>\n",
       "      <th>2</th>\n",
       "      <td>1510.01821</td>\n",
       "      <td>[quantum key distribution qkd is the first mat...</td>\n",
       "      <td>[the fully symmetric gaussian tripartite entan...</td>\n",
       "    </tr>\n",
       "    <tr>\n",
       "      <th>3</th>\n",
       "      <td>1105.2448</td>\n",
       "      <td>[the active galactic nucleus agn unification s...</td>\n",
       "      <td>[x ray unabsorbed seyfert 2 galaxies appear to...</td>\n",
       "    </tr>\n",
       "    <tr>\n",
       "      <th>4</th>\n",
       "      <td>1602.04433</td>\n",
       "      <td>[deep neural networks have significantly impro...</td>\n",
       "      <td>[the recent success of deep neural networks re...</td>\n",
       "    </tr>\n",
       "  </tbody>\n",
       "</table>\n",
       "</div>"
      ],
      "text/plain": [
       "     article_id                                            article  \\\n",
       "0  gr-qc0101015  [there is considerable current interest in stu...   \n",
       "1     0803.1640  [the first data system requiring dark energy c...   \n",
       "2    1510.01821  [quantum key distribution qkd is the first mat...   \n",
       "3     1105.2448  [the active galactic nucleus agn unification s...   \n",
       "4    1602.04433  [deep neural networks have significantly impro...   \n",
       "\n",
       "                                            abstract  \n",
       "0  [in this paper we consider the collision of sp...  \n",
       "1  [upcoming weak lensing surveys can be used to ...  \n",
       "2  [the fully symmetric gaussian tripartite entan...  \n",
       "3  [x ray unabsorbed seyfert 2 galaxies appear to...  \n",
       "4  [the recent success of deep neural networks re...  "
      ]
     },
     "execution_count": 7,
     "metadata": {},
     "output_type": "execute_result"
    }
   ],
   "source": [
    "cleaned_df.head()"
   ]
  },
  {
   "cell_type": "code",
   "execution_count": 8,
   "metadata": {},
   "outputs": [
    {
     "name": "stdout",
     "output_type": "stream",
     "text": [
      "idx: 203\n",
      "id: 1007.2979\n"
     ]
    }
   ],
   "source": [
    "# Pick a specific or random example\n",
    "# example = cleaned_df.iloc[442]\n",
    "example = cleaned_df.sample(n=1).iloc[0]\n",
    "print(f\"idx: {example.name}\")\n",
    "print(f\"id: {example['article_id']}\")"
   ]
  },
  {
   "cell_type": "code",
   "execution_count": 9,
   "metadata": {},
   "outputs": [
    {
     "name": "stdout",
     "output_type": "stream",
     "text": [
      "recent results are reviewed on galaxy dynamics , bar evolution , destruction and re formation , cold gas accretion , gas radial flows and agn fueling , minor mergers .\n",
      "some problems of galaxy evolution are discussed in particular , exchange of angular momentum , radial migration through resonant scattering , and consequences on abundance gradients , the frequency of bulgeless galaxies , and the relative role of secular evolution and hierarchical formation .\n"
     ]
    }
   ],
   "source": [
    "# The abstract\n",
    "print('\\n'.join(example.abstract))"
   ]
  },
  {
   "cell_type": "code",
   "execution_count": 10,
   "metadata": {},
   "outputs": [
    {
     "name": "stdout",
     "output_type": "stream",
     "text": [
      "there are at least three main scenarios invoked for galaxy formation : the first one , inspired by eggen et al 1962 is the monolithic collapse , where the initial gas clouds collapse gravitationally while forming quickly stars before the end of their collapse , so that they end up with a stellar spheroid .\n",
      "disks must then form later on , through slower gas accretion .\n",
      "the second is the hierarchical scenario , where the first systems to form are disks the star formation time scale being longer than the collapse time .\n",
      "then the interaction and merger of two disks lead to the formation of a spheroid .\n",
      "the third scenario , developped in this talk , considers that disks form first , as in the second scenario .\n",
      "however , disks then may evolve without any merger with other galaxies .\n",
      "their own internal evolution could also produce a spheroid at the center , through secular evolution .\n",
      "this scenario assumes external gas accretion from filaments of the cosmic web e.g.\n",
      "spontaneously , a disk evolves through its gravitational instability , producing non axisymmetric features or waves , that will transfer angular momentum .\n",
      "this is equivalent to an effective kinematic viscosity lin pringle 1987a .\n",
      "the stability of the disk is ensured at small scales by the equivalent pressure , due to the disordered motions , or velocity dispersions .\n",
      "all scales smaller than the jeans length @xmath0 are stabilised , where @xmath1 is the velocity dispersion , and @xmath2 the density .\n",
      "at large scales , the disk is stabilised by the differential rotation , and the subsequent shear .\n",
      "all scales larger than the critical @xmath3 are stable , where @xmath4 , with @xmath5 the disk surface density , and @xmath6 the epicyclic frequency .\n",
      "scales larger than @xmath7 and lower than @xmath3 remain unstable , unless the velocity dispersion is increased until @xmath8 : this condition is the toomre criterion toomre 1964 .\n",
      "the parameter @xmath9 must be larger than 1 for stability .\n",
      "from hydrostatic equilibrium in the z direction , the disk thickness must be @xmath10 , with @xmath11 .\n",
      "when instabilities occur , they transfer momentum on scale @xmath3 , with time scale @xmath12 or dynamical time scale therefore a prescription for effective viscosity is @xmath13 .\n",
      "in addition , it can be shown that , when the viscous time scale is of the same order as the star formation time scale , i.e.\n",
      "@xmath14 , then an exponential disk is formed lin pringle 1987b .\n",
      "bars are the most frequent non axisymmetries developped in galaxy disks .\n",
      "75 of spiral galaxies are barred , when viewed in the near infrared .\n",
      "they form easily in numerical simulations , even when @xmath15 .\n",
      "bars are very efficient to trasnfer angular momentum .\n",
      "they are robust and generate long lived gravity torques , acting on the gas , to concentrate mass towards the center .\n",
      "the amount of gas driven towards the center can be quantified by observations .\n",
      "it can be shown that the sign of the torques change at each lindblad resonance , in particular they are negative with respect to the sense of rotation inside corotation , and positive outside .\n",
      "the amplitude of the torques depends on the bar strength , and on the phase shift between the gas response and the stellar potential .\n",
      "inside cr , the gas leads the stars , and this corresponds to the characteristic morphology of dust lanes leading the bar , commonly observed in barred galaxies .\n",
      "from the near infrared image , representing the old stellar component , i.e.\n",
      "most of the mass in the visible disk , it is possible to deduce the gravitational potential of the galaxy .\n",
      "from the gas map observed either through hi or co lines , it is then possible to compute the average torque exerted on the gas at each radius , assuming a stationary state at least for one rotation .\n",
      "these computations have shown that typically in a strongly barred galaxy , the gas may lose 30 of its angular momentum at each rotation garcia burillo et al 2005 .\n",
      "the stellar bar receives the angular momentum lost by the gas , and therefore weakens : the bar is a wave with negative momentum , with most the orbits sustaining the bar with high eccentricity .\n",
      "the absorption of angular momentum makes the orbits rounder and the bar weaker .\n",
      "this can lead to the destruction of the bar e.g.\n",
      "the gas driven towards the center could fuel the supermassive black hole , present in every galaxy with bulge , and trigger nuclear activity agn .\n",
      "it is however difficult to find direct evidence of correlation between agn and bars , since the evolution time scales are widely different : the dynamical time scale for the gas to flow to the center , and to weaken the bar is a few 10@xmath16 yr , while the agn active phase is a few 10@xmath17 yr .\n",
      "to account for the large frequency of bars , in spite of their easy weakening and destruction , another mechanism has to re form bars : this is done through external gas accretion , which replenishes the disk , and makes it unstable again to bar formation .\n",
      "first gas is stalled outside the outer resonance by the positive torques , when the bar is strong .\n",
      "when the bas is weakened , the external gas can then enter and fuel the disk , intermittently .\n",
      "there is therefore a self regulated cycle of bar formation and destruction : the bar forms in an unstable cold disk , rich in gas .\n",
      "the strong bar produces gas inflow , which weakens or destroys the bar .\n",
      "gas accretion can then enter and re juvenate the disk , and a new bar form .\n",
      "a few percent in mass of gas infall is enough to transform a bar in a lens friedli et al 1994 , berentzen et al 1998 , bournaud et al 2002 , 2005 .\n",
      "external gas accretion is essential to drive the secular evolution of galaxy disks , and to maintain spirals and bars frequent enough in galaxies .\n",
      "the observed bar frequency can be used to quantify the accretion rate block et al 2002 .\n",
      "the required accretion rate corresponds to the baryonic galaxy mass doubling in 7 gyrs .\n",
      "cosmological simulations have recently revealed the importance of cold gas inflow in filaments .\n",
      "the predicted rate of gas accretion is similar to what is required to maintain the observed bar frequency dekel birnboim 2006 .\n",
      "l , as a function of l , for all stars left and only stars with small epicycles right .\n",
      "the locations of lindblad resonances ilr , cr and olr are indicated by vertical lines .\n",
      "the resonance scattering occurs mainly at corotation , from sellwood binney 2002 .,wid 309 a consequence of angular momentum redistribution over the disk by the bar , is the formation of exponential disks , with radial breaks , and different slopes in the outer parts .\n",
      "the break is expected at the outer lindblad resonance pfenniger friedli 1991 .\n",
      "when several patterns develop in the disk , there could be several breaks at differnt radii .\n",
      "alternatively , breaks may also be the consequence of gas accumulation , due to external accretion , together with a threshold of star formation in gas surface density roskar et al 2008 .\n",
      "the galaxy disk then form inside out , and the break moves radially outwards .\n",
      "this is confirmed through numerical simulations , which show how the successive spirals and bars transfer some of the inner stars to the outer parts .\n",
      "age and abundance gradients can then change suddenly in the outer parts , after the break limiting the location of new star formation .\n",
      "this can explain the frequent observations of these surprising reversals for instance after a radius of 8kpc in m33 , williams et al 2009 .\n",
      "there is a large efficiency in the exchange of angular momentum , by resonant scattering at resonances , due to several successive spiral patterns , as shown by sellwood binney 2002 , leading to radial migration of stars and gas cf figure 1 .\n",
      "l as a function of the initial angular momentum , l@xmath18 .\n",
      "the locations of the bar cr and olr are indicated by the dotted and solid lines , respectively .\n",
      "bottom row : the evolution of the radial profiles of surface density left and metallicity right for the stellar and gaseous disks .\n",
      "the initial disk scale lengths are indicated by the solid lines .\n",
      "the 5 time steps shown are as in the top row , indicated by solid red , dotted orange , dashed green , dotted dash blue and solid purple , respectively , from minchev et al 2010 .,wid 491 the principle is that , at corotation , it is possible to exchange angular momentum @xmath19 almost without heating .\n",
      "assuming a nearly steady spiral wave , at least for a few rotations , there is an energy invariant , the jacobi integral in the @xmath20 rotating frame : @xmath21 , and the energy and angular momentum are related by @xmath22 .\n",
      "to separate energy in the radial motions , defining the radial action @xmath23 , it can be shown that : @xmath24 .\n",
      "this shows that at corotation , where @xmath25 , changes in @xmath19 do not cause changes in @xmath23 , i.e.\n",
      "exchanges of @xmath19 will be most efficient near cr , and the orbits which are almost circular will be preferentially scattered , as shown in figure 1 .\n",
      "this kind of change in @xmath19 without heating is called churning by sellwood binney 2002 , while the change with increase of epicyclic amplitude , through heating , is called blurring , since it has specific signatures in the stellar orbits .\n",
      "gas contributes to churning , while it is also radially driven inwards .\n",
      "in real galaxies , spiral waves are not steady , but transient , and develop with different pattern speeds , so the cr could span a wide range in radii .\n",
      "radial migration could then involve most of the galaxy disk .\n",
      ", from sales et al 2009 .,wid 309 this has important consequences on the chemical evolution , and abundance gradients .\n",
      "the relation between metallicity and age is considerably scattered around a gross trend , as is observed shoenrich binney 2009 .\n",
      "there is also a large scatter in the o fe versus fe h relation .\n",
      "radial migration can also produce a thick disk , since stars in the inner disks have higher z velocity dispersion , due to the higher restoring force of the disk .\n",
      "when migrating outwards , they will feel a smaller restoring force towards the disk , and they will flare .\n",
      "this could explain both the @xmath26 riched and low metallicity property of the thick disk .\n",
      "the transfer of angular momentum can be multiplied if several patterns exist , with resonances in common .\n",
      "both bars and spirals can participate to this overlap of resonances .\n",
      "minchev famaey 2010 have shown that due to the non linear coupling , the region affected by the migration is widened , and the migration rate accelerated by a factor 3 .\n",
      "numerical simulations have confirmed the high migration rate , due to coupled patterns minchev et al 2010 .\n",
      "the exchange of angular momemtum has now maxima not only at corotation , but also at the olr .\n",
      "the presence of the gas increases the rate of angular momentum exchange by about 20 .\n",
      "metallicity gradients can flatten in less than 1 gyr as shown in figure 2 .\n",
      "again , the migration is the most important , for almost circular orbits .\n",
      "it can explain the absence of clear age metallicity relation , or age velocity relation .\n",
      "several mechanisms are invoked to form bulges or spheroids .\n",
      "first , as suggested by toomre toomre 1972 , major mergers of spiral galaxies can form an elliptical , with a remaining disk , according to the relative alignment of their initial spins e.g.\n",
      "in minor mergers , disks are more easily kept and progressively enrich the classical bulge .\n",
      "secular evolution can also form spheroids : bars and their vertical resonance elevate stars in the center into what is called a pseudo bulge .\n",
      "the latter is intermediate between a spheroid and a disk .\n",
      "pseudo bulges are observed more frequently in late type galaxies .\n",
      "a third mechanism is provided by clumpy galaxies at high redshift .\n",
      "the massive clumps through dynamical friction , quickly spiral in , and form a bulge .\n",
      "bulges in fact are too easily formed , and the main problem of the hierarchical scenario is to form bulgeless galaxies .\n",
      "these are observed with unexpected abundance , at 0 .\n",
      "as for mergers , it is possible that most ellipticals are the result of multiple minor mergers , instead of a 1:1 mass ratio remnant .\n",
      "numerical simulations have shown that the issue is not the mass ratio of individual mergers , but the total mass accreted , if at least 30 40 of initial mass .\n",
      "a large number of successive minor mergers can form an elliptical galaxy , for instance 50 mergers of 50:1 mass ratio .\n",
      "given the mass function of galaxies , multiple minor mergers are even more frequent than equal mass major mergers bournaud , jog combes 2007a .\n",
      "the formation of a box peanut bulge , from disk stars which are in vertical resonance with the bar , i.e.\n",
      "when @xmath27 , where @xmath28 is the vertical oscillation frequency , has been known for a long time combes sanders 1981 , combes et al 1990 .\n",
      "during secular evolution , the resonance can move radially , following the slowing down of the bar , and several peanuts can be formed , larger and larger martinez valpuesta et al 2006 .\n",
      "even after the bar destruction , the central stellar component will keep its thickness , forming a pseudo bulge .\n",
      "these spheroids , formed in numerical simulations , correspond perfectly to the kind of pseudo bulges so frequently observed in late type galaxies .\n",
      "they have characteristics intermediate between a classical bulge or an elliptical and a normal disk kormendy kennicutt 2004 , their main properties are : a luminosity distribution @xmath29 in magnitude , with a sersic index @xmath30 , with @xmath31 exponential disks have @xmath32 , elliptical galaxies @xmath33 or larger a flattening degree similar to disks , with typical box peanut shapes , and blue colors their kinematics show more rotation support than classical bulges .\n",
      "concerning the early evolution of galaxies , their percentage of gas is so high that their disk is unstable and fragments in a few massive clumps .\n",
      "with stars forming in those clumps , this scenario explains the formation of the clumpy galaxies observed at high redshift , which appear as chain galaxies , when edge on .\n",
      "numerical simulations then show the rapid formation of exponential disks and bulges , through dynamical friction noguchi 1999 , bournaud et al 2007b .\n",
      "the evolution time scale might even be shorter than with spirals and bars , given the contrast of the structures .\n",
      "many spiral galaxies are observed with a thick disk , distinct from their younger thin disk , where contemporary stars are forming .\n",
      "this thick disk could trace some features of the galaxy past formation .\n",
      "at least 4 scenarios have been invoked for the thick disk formation : accretion and disruption of satellites like in the stellar halo disk heating due to minor merger radial migration , via resonant scattering situ formation from thick gas disk mergers , or clumpy galaxies .\n",
      "sales et al 2009 recently proposed that orbit excentricity of stars could help to disentangle among these scenarios .\n",
      "the gravitational stability of disks , the dynamics of spiral perturbations , and the feedback cycle generated may explain the formation of exponential disks , with efficient kinematic viscosity .\n",
      "angular momentum exchange are also very efficient with bars , which gravity torques drive the gas towards the center , in a few dynamical times .\n",
      "in addition , resonant scattering by spiral waves , constantly re generated with different pattern speed , are efficient to produce radial migration of stars and gas .\n",
      "when overlap of resonances occurs , between spirals , or between spiral and bars , the migration is strong and spans the whole disk .\n",
      "if classical bulges and spheroids are commonly the results of mergers , secular evolution can also form the pseudo bulges , through vertical resonance with the bar .\n",
      "bulges in early and late type galaxies could be formed by a combination of these two mechanisms .\n",
      "presently , it is very difficult to explain the presence of a large number of bulge less galaxies , the more so as clumpy galaxies formed by gas instabilities at high redshift will also form massive bulges through dynamical friction .\n",
      "bendo g. , barnes j. : 2000 , mnras 316 , 315 berentzen , i. , heller , c. h. , shlosman , i. , fricke , k. j. : 1998 , mnras 300 , 49 block d. , bournaud f. , combes f. et al : 2002 394 , l35 bournaud f. , combes f. : 2002 , 392 , 83 bournaud f. , combes f. , semelin b. : 2005 , mnras 364 , l18 bournaud f. , jog c. , combes f. : 2007a , 476 , 1179a bournaud f. , elmegreen , b. g. , elmegreen , d. m. : 2007b apj 670 , 237 combes f. , sanders , r.h .\n",
      ": 1981 , 96 , 164 combes f. , debbasch f. , friedli d. , pfenniger d. : 1990 , 233 , 82 dekel a. , birnboim y. : 2006 , mnras 368 , 2 eggen , o. j. , lynden bell , d. , sandage , a. r. : 1962 , apj 136 , 748 friedli , d. , benz , w. , kennicutt , r. : 1994 apj 430 , l105 garcia burillo s. , combes , f. , schinnerer , e. et al .\n",
      ": 1987b , apj 320 , l87 martinez valpuesta , i. , shlosman , i. , heller , c. : 2006 , apj 637 , 214 minchev i , famaey b. : 2010 , mnras in press , arxiv0911.1794 minchev i. , famaey , b. , combes , f. et al .\n",
      ": 2010ib , in press arxiv1006.0484 noguchi m. : 1999 , apj 514 , 77 pfenniger d. , friedli d. : 1991 , 252 , 75 roskar , r. , debattista , v.p .\n",
      ": 2008 , apj 675 , l65 sales , l. v. , helmi , a. , abadi , m. g. et al .\n",
      ": 2009 , mnras 400 , l61 shoenrich r. , binney j. : 2009 , mnras 399 , 1145 sellwood g. , binney j. : 2002 , mnras 336 , 785 toomre a. : 1964 , apj 139 , 1217 toomre a. , toomre j. : 1972 , apj 178 , 623 williams b.f .\n"
     ]
    }
   ],
   "source": [
    "# The article\n",
    "print('\\n'.join(example.article))"
   ]
  },
  {
   "cell_type": "code",
   "execution_count": 27,
   "metadata": {},
   "outputs": [
    {
     "name": "stdout",
     "output_type": "stream",
     "text": [
      "Average Abstract Length: 176.496\n",
      "Average Abstract Filtered Length: 137.264\n",
      "Average Article Length: 5990.734\n",
      "Average Article Filtered Length: 4284.148\n"
     ]
    }
   ],
   "source": [
    "avg_abstract_len = df['abstract'].apply(lambda x: sum([len(words.split(\" \")) for words in x])).mean()\n",
    "avg_abstract_filtered_len = df['abstract'].apply(lambda x: sum([len(list(filter(lambda word: word.isalpha(), words.split(\" \")))) for words in x])).mean()\n",
    "print(f\"Average Abstract Length: {avg_abstract_len}\")\n",
    "print(f\"Average Abstract Filtered Length: {avg_abstract_filtered_len}\")\n",
    "\n",
    "avg_article_len = df['article'].apply(lambda x: sum([len(words.split(\" \")) for words in x])).mean()\n",
    "avg_article_filtered_len = df['article'].apply(lambda x: sum([len(list(filter(lambda word: word.isalpha(), words.split(\" \")))) for words in x])).mean()\n",
    "# avg_article_filtered_len = df['article'].apply(lambda x: np.mean([len(filter(lambda word: word.isalpha(), words.split(\" \"))) for words in x])).mean()\n",
    "print(f\"Average Article Length: {avg_article_len}\")\n",
    "print(f\"Average Article Filtered Length: {avg_article_filtered_len}\")"
   ]
  },
  {
   "attachments": {},
   "cell_type": "markdown",
   "metadata": {},
   "source": [
    "#### Saving the cleaned data"
   ]
  },
  {
   "cell_type": "code",
   "execution_count": 52,
   "metadata": {},
   "outputs": [],
   "source": [
    "cleaned_df.to_csv(\"data/arxiv_cleaned.csv\", index=False)"
   ]
  },
  {
   "cell_type": "code",
   "execution_count": null,
   "metadata": {},
   "outputs": [],
   "source": []
  }
 ],
 "metadata": {
  "kernelspec": {
   "display_name": "Python 3",
   "language": "python",
   "name": "python3"
  },
  "language_info": {
   "codemirror_mode": {
    "name": "ipython",
    "version": 3
   },
   "file_extension": ".py",
   "mimetype": "text/x-python",
   "name": "python",
   "nbconvert_exporter": "python",
   "pygments_lexer": "ipython3",
   "version": "3.9.13"
  },
  "orig_nbformat": 4,
  "vscode": {
   "interpreter": {
    "hash": "2e25a6a6007380c2aaab295dbd93e746300d3d483f6c80ab0a58bac2da9fb50d"
   }
  }
 },
 "nbformat": 4,
 "nbformat_minor": 2
}
